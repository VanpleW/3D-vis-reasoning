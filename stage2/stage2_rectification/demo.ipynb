{
 "cells": [
  {
   "cell_type": "code",
   "execution_count": 1,
   "id": "d46c65ed",
   "metadata": {},
   "outputs": [],
   "source": [
    "from utils import load_images, to_optimize\n",
    "import numpy as np\n",
    "import os"
   ]
  },
  {
   "cell_type": "code",
   "execution_count": 2,
   "id": "d6c17d54",
   "metadata": {},
   "outputs": [],
   "source": [
    "# create a logbook to record the results\n",
    "import logging\n",
    "\n",
    "# Create a logger\n",
    "logger = logging.getLogger('training_logger')\n",
    "logger.setLevel(logging.INFO)\n",
    "\n",
    "# Create a file handler\n",
    "handler = logging.FileHandler('training.log')\n",
    "handler.setLevel(logging.INFO)\n",
    "\n",
    "# Create a logging format\n",
    "formatter = logging.Formatter('%(asctime)s - %(name)s - %(levelname)s - %(message)s')\n",
    "handler.setFormatter(formatter)\n",
    "\n",
    "# Add the handler to the logger\n",
    "logger.addHandler(handler)\n"
   ]
  },
  {
   "cell_type": "code",
   "execution_count": 3,
   "id": "a66f7615",
   "metadata": {},
   "outputs": [
    {
     "name": "stdout",
     "output_type": "stream",
     "text": [
      "/Users/vanple/Desktop/ucla/_Courses_/3D-vis-reasoning/stage2/stage2_rectification\n",
      "number of files:  11\n"
     ]
    }
   ],
   "source": [
    "cwd = os.getcwd()\n",
    "print(cwd)\n",
    "\n",
    "num, files = load_images(cwd)\n",
    "print('number of files: ', num)\n",
    "\n",
    "files = list(files)"
   ]
  },
  {
   "cell_type": "code",
   "execution_count": 4,
   "id": "74d6e2f7",
   "metadata": {},
   "outputs": [],
   "source": [
    "# grid search for the best parameters and methods:\n",
    "'''\n",
    "    1. feature detection method:\n",
    "        - SIFT\n",
    "        - SURF # not working, patented\n",
    "        - ORB\n",
    "    2. feature matching method:\n",
    "        - Brute Force\n",
    "        - FLANN\n",
    "    3. feature matching ratio:\n",
    "        - 0.7\n",
    "        - 0.8\n",
    "        - 0.9\n",
    "    \n",
    "'''\n",
    "param_grid = {\n",
    "    'f_detector': ['SIFT', 'ORB'],\n",
    "    'nfeatures': [100, 200, 300, 400, 500, 600, 700, 800, 900, 1000],\n",
    "    'contrastThreshold': [0.01, 0.02, 0.03, 0.04, 0.05, 0.06],\n",
    "    'f_matcher': ['BruteForce', 'FLANN'],\n",
    "    'f_ratio': [0.7, 0.8, 0.9]\n",
    "}"
   ]
  },
  {
   "attachments": {},
   "cell_type": "markdown",
   "id": "74957252",
   "metadata": {},
   "source": [
    "## perform the parallel grid search"
   ]
  },
  {
   "cell_type": "code",
   "execution_count": null,
   "id": "61bd8973",
   "metadata": {},
   "outputs": [],
   "source": [
    "# grid search in parallel\n",
    "import concurrent.futures\n",
    "import itertools\n",
    "\n",
    "# create a list of all the combinations\n",
    "all_combinations = list(itertools.product(*param_grid.values()))\n",
    "\n",
    "# perform the grid search in parallel\n",
    "with concurrent.futures.ProcessPoolExecutor() as executor:\n",
    "    futures = [executor.submit(to_optimize, params, files, num) for params in all_combinations]\n",
    "    for i, future in enumerate(concurrent.futures.as_completed(futures)):\n",
    "        logger.info('finished {}/{} tasks'.format(i+1, len(all_combinations)))\n",
    "        logger.info('params: {}'.format(all_combinations[i]))\n",
    "        logger.info('result: {}'.format(future.result()))\n",
    "        logger.info('----------------------------------')"
   ]
  },
  {
   "cell_type": "code",
   "execution_count": 7,
   "id": "b646e8e0",
   "metadata": {},
   "outputs": [
    {
     "name": "stdout",
     "output_type": "stream",
     "text": [
      "best result:  31.04\n",
      "best params:  SIFT 700 0.05 BruteForce 0.8\n"
     ]
    }
   ],
   "source": [
    "# the best parameters are:\n",
    "best_result = max(futures, key=lambda x: x.result())\n",
    "print('best result: ', best_result.result())\n",
    "print('best params: ', all_combinations[futures.index(best_result)])"
   ]
  },
  {
   "attachments": {},
   "cell_type": "markdown",
   "id": "f4bbbd3e",
   "metadata": {},
   "source": [
    "Side Notes: SURF might be better than SIFT? Since it is patented, maybe companies use it for better performance?"
   ]
  },
  {
   "attachments": {},
   "cell_type": "markdown",
   "id": "ed9481bf",
   "metadata": {},
   "source": []
  }
 ],
 "metadata": {
  "kernelspec": {
   "display_name": "Python 3 (ipykernel)",
   "language": "python",
   "name": "python3"
  },
  "language_info": {
   "codemirror_mode": {
    "name": "ipython",
    "version": 3
   },
   "file_extension": ".py",
   "mimetype": "text/x-python",
   "name": "python",
   "nbconvert_exporter": "python",
   "pygments_lexer": "ipython3",
   "version": "3.8.15"
  }
 },
 "nbformat": 4,
 "nbformat_minor": 5
}
