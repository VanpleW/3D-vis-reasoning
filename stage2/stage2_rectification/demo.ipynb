{
 "cells": [
  {
   "cell_type": "code",
   "execution_count": 1,
   "id": "d46c65ed",
   "metadata": {},
   "outputs": [],
   "source": [
    "from utils import psnr_ssim_rect, unwrap,  load_images, cal_psnr_ssim\n",
    "import numpy as np\n",
    "import os\n",
    "import cv2"
   ]
  },
  {
   "cell_type": "code",
   "execution_count": 2,
   "id": "a66f7615",
   "metadata": {},
   "outputs": [
    {
     "name": "stdout",
     "output_type": "stream",
     "text": [
      "/Users/vanple/Desktop/ucla/_Courses_/3D-vis-reasoning/stage2/stage2_rectification\n",
      "number of files:  11\n"
     ]
    }
   ],
   "source": [
    "cwd = os.getcwd()\n",
    "print(cwd)\n",
    "num, files = load_images(cwd)\n",
    "print('number of files: ', num)"
   ]
  },
  {
   "cell_type": "code",
   "execution_count": 3,
   "id": "74d6e2f7",
   "metadata": {},
   "outputs": [],
   "source": [
    "# grid search for the best parameters and methods:\n",
    "'''\n",
    "    1. feature detection method:\n",
    "        - SIFT\n",
    "        - SURF\n",
    "        - ORB\n",
    "    2. feature matching method:\n",
    "        - Brute Force\n",
    "        - FLANN\n",
    "    3. feature matching ratio:\n",
    "        - 0.7\n",
    "        - 0.8\n",
    "        - 0.9\n",
    "    \n",
    "'''\n",
    "f_detector = {\n",
    "    'SIFT': cv2.SIFT_create(),\n",
    "    #'SURF': cv2.xfeatures2d.SURF_create(),  # this one is patented\n",
    "    'ORB': cv2.ORB_create()\n",
    "}\n",
    "\n",
    "f_matcher = {\n",
    "    'BF': cv2.BFMatcher(),\n",
    "    'FLANN': cv2.FlannBasedMatcher()\n",
    "}\n",
    "\n",
    "f_ratio = [0.7, 0.8, 0.9]"
   ]
  },
  {
   "cell_type": "code",
   "execution_count": 4,
   "id": "61bd8973",
   "metadata": {},
   "outputs": [
    {
     "ename": "TypeError",
     "evalue": "cannot pickle 'cv2.SIFT' object",
     "output_type": "error",
     "traceback": [
      "\u001b[0;31m---------------------------------------------------------------------------\u001b[0m",
      "\u001b[0;31m_RemoteTraceback\u001b[0m                          Traceback (most recent call last)",
      "\u001b[0;31m_RemoteTraceback\u001b[0m: \n\"\"\"\nTraceback (most recent call last):\n  File \"/Users/vanple/.pyenv/versions/3.8.15/lib/python3.8/multiprocessing/queues.py\", line 239, in _feed\n    obj = _ForkingPickler.dumps(obj)\n  File \"/Users/vanple/.pyenv/versions/3.8.15/lib/python3.8/multiprocessing/reduction.py\", line 51, in dumps\n    cls(buf, protocol).dump(obj)\nTypeError: cannot pickle 'cv2.SIFT' object\n\"\"\"",
      "\nThe above exception was the direct cause of the following exception:\n",
      "\u001b[0;31mTypeError\u001b[0m                                 Traceback (most recent call last)",
      "\u001b[1;32m/Users/vanple/Desktop/ucla/_Courses_/3D-vis-reasoning/stage2/stage2_rectification/demo.ipynb Cell 4\u001b[0m in \u001b[0;36m1\n\u001b[1;32m     <a href='vscode-notebook-cell:/Users/vanple/Desktop/ucla/_Courses_/3D-vis-reasoning/stage2/stage2_rectification/demo.ipynb#W1sZmlsZQ%3D%3D?line=9'>10</a>\u001b[0m results \u001b[39m=\u001b[39m executor\u001b[39m.\u001b[39mmap(cal_psnr_ssim, itertools\u001b[39m.\u001b[39mrepeat(files), \n\u001b[1;32m     <a href='vscode-notebook-cell:/Users/vanple/Desktop/ucla/_Courses_/3D-vis-reasoning/stage2/stage2_rectification/demo.ipynb#W1sZmlsZQ%3D%3D?line=10'>11</a>\u001b[0m                        [f_detector[c[\u001b[39m0\u001b[39m]] \u001b[39mfor\u001b[39;00m c \u001b[39min\u001b[39;00m all_combinations], \n\u001b[1;32m     <a href='vscode-notebook-cell:/Users/vanple/Desktop/ucla/_Courses_/3D-vis-reasoning/stage2/stage2_rectification/demo.ipynb#W1sZmlsZQ%3D%3D?line=11'>12</a>\u001b[0m                        [f_matcher[c[\u001b[39m1\u001b[39m]] \u001b[39mfor\u001b[39;00m c \u001b[39min\u001b[39;00m all_combinations], \n\u001b[1;32m     <a href='vscode-notebook-cell:/Users/vanple/Desktop/ucla/_Courses_/3D-vis-reasoning/stage2/stage2_rectification/demo.ipynb#W1sZmlsZQ%3D%3D?line=12'>13</a>\u001b[0m                        [c[\u001b[39m2\u001b[39m] \u001b[39mfor\u001b[39;00m c \u001b[39min\u001b[39;00m all_combinations], \n\u001b[1;32m     <a href='vscode-notebook-cell:/Users/vanple/Desktop/ucla/_Courses_/3D-vis-reasoning/stage2/stage2_rectification/demo.ipynb#W1sZmlsZQ%3D%3D?line=13'>14</a>\u001b[0m                        itertools\u001b[39m.\u001b[39mrepeat(num))\n\u001b[1;32m     <a href='vscode-notebook-cell:/Users/vanple/Desktop/ucla/_Courses_/3D-vis-reasoning/stage2/stage2_rectification/demo.ipynb#W1sZmlsZQ%3D%3D?line=15'>16</a>\u001b[0m \u001b[39m# print the results\u001b[39;00m\n\u001b[0;32m---> <a href='vscode-notebook-cell:/Users/vanple/Desktop/ucla/_Courses_/3D-vis-reasoning/stage2/stage2_rectification/demo.ipynb#W1sZmlsZQ%3D%3D?line=16'>17</a>\u001b[0m \u001b[39mfor\u001b[39;00m comb, res \u001b[39min\u001b[39;00m \u001b[39mzip\u001b[39m(all_combinations, results):\n\u001b[1;32m     <a href='vscode-notebook-cell:/Users/vanple/Desktop/ucla/_Courses_/3D-vis-reasoning/stage2/stage2_rectification/demo.ipynb#W1sZmlsZQ%3D%3D?line=17'>18</a>\u001b[0m     \u001b[39mprint\u001b[39m(comb, res)\n",
      "File \u001b[0;32m~/.pyenv/versions/3.8.15/lib/python3.8/concurrent/futures/process.py:484\u001b[0m, in \u001b[0;36m_chain_from_iterable_of_lists\u001b[0;34m(iterable)\u001b[0m\n\u001b[1;32m    478\u001b[0m \u001b[39mdef\u001b[39;00m \u001b[39m_chain_from_iterable_of_lists\u001b[39m(iterable):\n\u001b[1;32m    479\u001b[0m     \u001b[39m\"\"\"\u001b[39;00m\n\u001b[1;32m    480\u001b[0m \u001b[39m    Specialized implementation of itertools.chain.from_iterable.\u001b[39;00m\n\u001b[1;32m    481\u001b[0m \u001b[39m    Each item in *iterable* should be a list.  This function is\u001b[39;00m\n\u001b[1;32m    482\u001b[0m \u001b[39m    careful not to keep references to yielded objects.\u001b[39;00m\n\u001b[1;32m    483\u001b[0m \u001b[39m    \"\"\"\u001b[39;00m\n\u001b[0;32m--> 484\u001b[0m     \u001b[39mfor\u001b[39;00m element \u001b[39min\u001b[39;00m iterable:\n\u001b[1;32m    485\u001b[0m         element\u001b[39m.\u001b[39mreverse()\n\u001b[1;32m    486\u001b[0m         \u001b[39mwhile\u001b[39;00m element:\n",
      "File \u001b[0;32m~/.pyenv/versions/3.8.15/lib/python3.8/concurrent/futures/_base.py:619\u001b[0m, in \u001b[0;36mExecutor.map.<locals>.result_iterator\u001b[0;34m()\u001b[0m\n\u001b[1;32m    616\u001b[0m \u001b[39mwhile\u001b[39;00m fs:\n\u001b[1;32m    617\u001b[0m     \u001b[39m# Careful not to keep a reference to the popped future\u001b[39;00m\n\u001b[1;32m    618\u001b[0m     \u001b[39mif\u001b[39;00m timeout \u001b[39mis\u001b[39;00m \u001b[39mNone\u001b[39;00m:\n\u001b[0;32m--> 619\u001b[0m         \u001b[39myield\u001b[39;00m fs\u001b[39m.\u001b[39;49mpop()\u001b[39m.\u001b[39;49mresult()\n\u001b[1;32m    620\u001b[0m     \u001b[39melse\u001b[39;00m:\n\u001b[1;32m    621\u001b[0m         \u001b[39myield\u001b[39;00m fs\u001b[39m.\u001b[39mpop()\u001b[39m.\u001b[39mresult(end_time \u001b[39m-\u001b[39m time\u001b[39m.\u001b[39mmonotonic())\n",
      "File \u001b[0;32m~/.pyenv/versions/3.8.15/lib/python3.8/concurrent/futures/_base.py:444\u001b[0m, in \u001b[0;36mFuture.result\u001b[0;34m(self, timeout)\u001b[0m\n\u001b[1;32m    442\u001b[0m     \u001b[39mraise\u001b[39;00m CancelledError()\n\u001b[1;32m    443\u001b[0m \u001b[39melif\u001b[39;00m \u001b[39mself\u001b[39m\u001b[39m.\u001b[39m_state \u001b[39m==\u001b[39m FINISHED:\n\u001b[0;32m--> 444\u001b[0m     \u001b[39mreturn\u001b[39;00m \u001b[39mself\u001b[39;49m\u001b[39m.\u001b[39;49m__get_result()\n\u001b[1;32m    445\u001b[0m \u001b[39melse\u001b[39;00m:\n\u001b[1;32m    446\u001b[0m     \u001b[39mraise\u001b[39;00m \u001b[39mTimeoutError\u001b[39;00m()\n",
      "File \u001b[0;32m~/.pyenv/versions/3.8.15/lib/python3.8/concurrent/futures/_base.py:389\u001b[0m, in \u001b[0;36mFuture.__get_result\u001b[0;34m(self)\u001b[0m\n\u001b[1;32m    387\u001b[0m \u001b[39mif\u001b[39;00m \u001b[39mself\u001b[39m\u001b[39m.\u001b[39m_exception:\n\u001b[1;32m    388\u001b[0m     \u001b[39mtry\u001b[39;00m:\n\u001b[0;32m--> 389\u001b[0m         \u001b[39mraise\u001b[39;00m \u001b[39mself\u001b[39m\u001b[39m.\u001b[39m_exception\n\u001b[1;32m    390\u001b[0m     \u001b[39mfinally\u001b[39;00m:\n\u001b[1;32m    391\u001b[0m         \u001b[39m# Break a reference cycle with the exception in self._exception\u001b[39;00m\n\u001b[1;32m    392\u001b[0m         \u001b[39mself\u001b[39m \u001b[39m=\u001b[39m \u001b[39mNone\u001b[39;00m\n",
      "File \u001b[0;32m~/.pyenv/versions/3.8.15/lib/python3.8/multiprocessing/queues.py:239\u001b[0m, in \u001b[0;36mQueue._feed\u001b[0;34m(buffer, notempty, send_bytes, writelock, close, ignore_epipe, onerror, queue_sem)\u001b[0m\n\u001b[1;32m    236\u001b[0m     \u001b[39mreturn\u001b[39;00m\n\u001b[1;32m    238\u001b[0m \u001b[39m# serialize the data before acquiring the lock\u001b[39;00m\n\u001b[0;32m--> 239\u001b[0m obj \u001b[39m=\u001b[39m _ForkingPickler\u001b[39m.\u001b[39;49mdumps(obj)\n\u001b[1;32m    240\u001b[0m \u001b[39mif\u001b[39;00m wacquire \u001b[39mis\u001b[39;00m \u001b[39mNone\u001b[39;00m:\n\u001b[1;32m    241\u001b[0m     send_bytes(obj)\n",
      "File \u001b[0;32m~/.pyenv/versions/3.8.15/lib/python3.8/multiprocessing/reduction.py:51\u001b[0m, in \u001b[0;36mForkingPickler.dumps\u001b[0;34m(cls, obj, protocol)\u001b[0m\n\u001b[1;32m     48\u001b[0m \u001b[39m@classmethod\u001b[39m\n\u001b[1;32m     49\u001b[0m \u001b[39mdef\u001b[39;00m \u001b[39mdumps\u001b[39m(\u001b[39mcls\u001b[39m, obj, protocol\u001b[39m=\u001b[39m\u001b[39mNone\u001b[39;00m):\n\u001b[1;32m     50\u001b[0m     buf \u001b[39m=\u001b[39m io\u001b[39m.\u001b[39mBytesIO()\n\u001b[0;32m---> 51\u001b[0m     \u001b[39mcls\u001b[39;49m(buf, protocol)\u001b[39m.\u001b[39;49mdump(obj)\n\u001b[1;32m     52\u001b[0m     \u001b[39mreturn\u001b[39;00m buf\u001b[39m.\u001b[39mgetbuffer()\n",
      "\u001b[0;31mTypeError\u001b[0m: cannot pickle 'cv2.SIFT' object"
     ]
    }
   ],
   "source": [
    "# grid search in parallel\n",
    "import concurrent.futures\n",
    "import itertools\n",
    "\n",
    "# create a list of all the combinations\n",
    "all_combinations = list(itertools.product(f_detector.keys(), f_matcher.keys(), f_ratio))\n",
    "\n",
    "# perform the grid search in parallel\n",
    "with concurrent.futures.ProcessPoolExecutor() as executor:\n",
    "    results = executor.map(cal_psnr_ssim, itertools.repeat(files), \n",
    "                           [f_detector[c[0]] for c in all_combinations], \n",
    "                           [f_matcher[c[1]] for c in all_combinations], \n",
    "                           [c[2] for c in all_combinations], \n",
    "                           itertools.repeat(num))\n",
    "    \n",
    "    # print the results\n",
    "    for comb, res in zip(all_combinations, results):\n",
    "        print(comb, res)"
   ]
  },
  {
   "cell_type": "code",
   "execution_count": 5,
   "id": "42e8f0a5",
   "metadata": {},
   "outputs": [
    {
     "name": "stdout",
     "output_type": "stream",
     "text": [
      "dict_keys(['SIFT', 'ORB'])\n"
     ]
    }
   ],
   "source": [
    "print(f_detector.keys())"
   ]
  },
  {
   "cell_type": "code",
   "execution_count": null,
   "id": "583803dc",
   "metadata": {},
   "outputs": [],
   "source": []
  }
 ],
 "metadata": {
  "kernelspec": {
   "display_name": "Python 3 (ipykernel)",
   "language": "python",
   "name": "python3"
  },
  "language_info": {
   "codemirror_mode": {
    "name": "ipython",
    "version": 3
   },
   "file_extension": ".py",
   "mimetype": "text/x-python",
   "name": "python",
   "nbconvert_exporter": "python",
   "pygments_lexer": "ipython3",
   "version": "3.8.15"
  }
 },
 "nbformat": 4,
 "nbformat_minor": 5
}
