{
 "cells": [
  {
   "cell_type": "code",
   "execution_count": 1,
   "metadata": {},
   "outputs": [],
   "source": [
    "import cv2\n",
    "import numpy as np\n",
    "from natsort import natsorted\n",
    "from glob import glob\n",
    "\n",
    "import matplotlib.pyplot as plt\n",
    "from tqdm import tqdm\n",
    "\n",
    "from utils import search_params, psnr_ssim_rect"
   ]
  },
  {
   "cell_type": "code",
   "execution_count": 2,
   "metadata": {},
   "outputs": [],
   "source": [
    "import os\n",
    "cwd = os.getcwd()"
   ]
  },
  {
   "attachments": {},
   "cell_type": "markdown",
   "metadata": {},
   "source": [
    "# Stereo Matching"
   ]
  },
  {
   "cell_type": "code",
   "execution_count": 3,
   "metadata": {},
   "outputs": [],
   "source": [
    "left_files = natsorted(glob(cwd + '/left_imgs/*.png'))\n",
    "right_files = natsorted(glob(cwd + '/right_imgs/*.png'))\n",
    "dis_files = natsorted(glob(cwd + '/disparities/*.png'))\n",
    "\n",
    "num = len(left_files)"
   ]
  },
  {
   "attachments": {},
   "cell_type": "markdown",
   "metadata": {},
   "source": [
    "## 1. Local Method: \n",
    "\n",
    "- Block Matching Algorithms\n",
    "\n",
    "- Semi Global Block Matching Algorithms\n",
    "\n",
    "- linear Stereo Matching"
   ]
  },
  {
   "attachments": {},
   "cell_type": "markdown",
   "metadata": {},
   "source": [
    "### 1.1 Block Matching"
   ]
  },
  {
   "cell_type": "code",
   "execution_count": 4,
   "metadata": {},
   "outputs": [],
   "source": [
    "block_size = np.arange(5, 51, 2)\n",
    "max_disp = [16, 32, 64, 128, 256]\n",
    "\n",
    "# Initialize variables to store the best parameters and the best score\n",
    "best_block_size = None\n",
    "best_max_disparity = None\n",
    "best_score = float('inf')"
   ]
  },
  {
   "cell_type": "code",
   "execution_count": 5,
   "metadata": {},
   "outputs": [
    {
     "name": "stderr",
     "output_type": "stream",
     "text": [
      "  0%|          | 0/23 [00:00<?, ?it/s]\n"
     ]
    },
    {
     "ename": "TypeError",
     "evalue": "logical_and() takes from 2 to 3 positional arguments but 0 were given",
     "output_type": "error",
     "traceback": [
      "\u001b[0;31m---------------------------------------------------------------------------\u001b[0m",
      "\u001b[0;31mTypeError\u001b[0m                                 Traceback (most recent call last)",
      "\u001b[1;32m/Users/vanple/Desktop/ucla/_Courses_/3D-vis-reasoning/stage2/stage2_stereo/demo.ipynb Cell 8\u001b[0m in \u001b[0;36m9\n\u001b[1;32m      <a href='vscode-notebook-cell:/Users/vanple/Desktop/ucla/_Courses_/3D-vis-reasoning/stage2/stage2_stereo/demo.ipynb#W5sZmlsZQ%3D%3D?line=6'>7</a>\u001b[0m     right_img \u001b[39m=\u001b[39m cv2\u001b[39m.\u001b[39mimread(right_file, \u001b[39m0\u001b[39m)\n\u001b[1;32m      <a href='vscode-notebook-cell:/Users/vanple/Desktop/ucla/_Courses_/3D-vis-reasoning/stage2/stage2_stereo/demo.ipynb#W5sZmlsZQ%3D%3D?line=7'>8</a>\u001b[0m     dis_gt_img \u001b[39m=\u001b[39m cv2\u001b[39m.\u001b[39mimread(dis_file, \u001b[39m0\u001b[39m)\u001b[39m.\u001b[39mastype(np\u001b[39m.\u001b[39mfloat32)\n\u001b[0;32m----> <a href='vscode-notebook-cell:/Users/vanple/Desktop/ucla/_Courses_/3D-vis-reasoning/stage2/stage2_stereo/demo.ipynb#W5sZmlsZQ%3D%3D?line=8'>9</a>\u001b[0m     rmse \u001b[39m=\u001b[39m search_params(left_img, right_img, dis_gt_img, bs, md)\n\u001b[1;32m     <a href='vscode-notebook-cell:/Users/vanple/Desktop/ucla/_Courses_/3D-vis-reasoning/stage2/stage2_stereo/demo.ipynb#W5sZmlsZQ%3D%3D?line=9'>10</a>\u001b[0m     rmse_sum \u001b[39m+\u001b[39m\u001b[39m=\u001b[39m rmse\n\u001b[1;32m     <a href='vscode-notebook-cell:/Users/vanple/Desktop/ucla/_Courses_/3D-vis-reasoning/stage2/stage2_stereo/demo.ipynb#W5sZmlsZQ%3D%3D?line=10'>11</a>\u001b[0m \u001b[39mif\u001b[39;00m rmse_sum \u001b[39m<\u001b[39m best_score:\n",
      "File \u001b[0;32m~/Desktop/ucla/_Courses_/3D-vis-reasoning/stage2/stage2_stereo/utils.py:13\u001b[0m, in \u001b[0;36msearch_params\u001b[0;34m(left_img, right_img, dis_gt_img, bs, md)\u001b[0m\n\u001b[1;32m     11\u001b[0m disparity \u001b[39m=\u001b[39m cv2\u001b[39m.\u001b[39mnormalize(disparity, \u001b[39mNone\u001b[39;00m, alpha\u001b[39m=\u001b[39m\u001b[39m0\u001b[39m, beta\u001b[39m=\u001b[39mmd, norm_type\u001b[39m=\u001b[39mcv2\u001b[39m.\u001b[39mNORM_MINMAX, dtype\u001b[39m=\u001b[39mcv2\u001b[39m.\u001b[39mCV_32F)\n\u001b[1;32m     12\u001b[0m \u001b[39m# error\u001b[39;00m\n\u001b[0;32m---> 13\u001b[0m mask \u001b[39m=\u001b[39m np\u001b[39m.\u001b[39;49mlogical_and(disparity \u001b[39m=\u001b[39;49m \u001b[39m0\u001b[39;49m, dis_gt_img \u001b[39m=\u001b[39;49m \u001b[39m0\u001b[39;49m)\n\u001b[1;32m     14\u001b[0m \u001b[39m#mask = np.logical_or(disparity == 0, dis_gt_img == 0)\u001b[39;00m\n\u001b[1;32m     15\u001b[0m masked_sq_err \u001b[39m=\u001b[39m np\u001b[39m.\u001b[39mma\u001b[39m.\u001b[39marray(np\u001b[39m.\u001b[39msquare(disparity \u001b[39m-\u001b[39m dis_gt_img), mask\u001b[39m=\u001b[39mmask)\n",
      "\u001b[0;31mTypeError\u001b[0m: logical_and() takes from 2 to 3 positional arguments but 0 were given"
     ]
    }
   ],
   "source": [
    "# grid search on block size and max disparity\n",
    "for bs in tqdm(block_size):\n",
    "    for md in max_disp:\n",
    "        rmse_sum = 0\n",
    "        for left_file, right_file, dis_file in zip(left_files, right_files, dis_files):\n",
    "            left_img = cv2.imread(left_file, 0)\n",
    "            right_img = cv2.imread(right_file, 0)\n",
    "            dis_gt_img = cv2.imread(dis_file, 0).astype(np.float32)\n",
    "            rmse = search_params(left_img, right_img, dis_gt_img, bs, md)\n",
    "            rmse_sum += rmse\n",
    "        if rmse_sum < best_score:\n",
    "            best_score = rmse\n",
    "            best_block_size = bs\n",
    "            best_max_disparity = md\n",
    "        \n"
   ]
  },
  {
   "cell_type": "code",
   "execution_count": null,
   "metadata": {},
   "outputs": [],
   "source": [
    "print('Best block size: ', best_block_size, 'and best max disparity: ', best_max_disparity, 'best score: ', best_score/num)"
   ]
  },
  {
   "cell_type": "code",
   "execution_count": null,
   "metadata": {},
   "outputs": [],
   "source": [
    "# demo with last set pair of images\n",
    "best_stereo = cv2.StereoBM_create(numDisparities=best_max_disparity, blockSize=best_block_size)\n",
    "best_disparity = best_stereo.compute(left_img, right_img)\n",
    "best_disparity = cv2.normalize(best_disparity, None, alpha=0, beta=best_max_disparity, norm_type=cv2.NORM_MINMAX, dtype=cv2.CV_32F)"
   ]
  },
  {
   "cell_type": "code",
   "execution_count": null,
   "metadata": {},
   "outputs": [],
   "source": [
    "fig = plt.figure(figsize=(20, 20), dpi=300)\n",
    "fig.add_subplot(1, 2, 1)\n",
    "plt.imshow(best_disparity)\n",
    "fig.add_subplot(1, 2, 2)\n",
    "plt.imshow(dis_gt_img)\n",
    "plt.show()"
   ]
  },
  {
   "attachments": {},
   "cell_type": "markdown",
   "metadata": {},
   "source": [
    "## 2. Global Method: \n",
    "\n",
    "- Graph Cut: slow and C++?\n",
    "\n",
    "- Dynamic Programming\n"
   ]
  },
  {
   "attachments": {},
   "cell_type": "markdown",
   "metadata": {},
   "source": []
  },
  {
   "attachments": {},
   "cell_type": "markdown",
   "metadata": {},
   "source": [
    "## 3. Nerual Network"
   ]
  },
  {
   "attachments": {},
   "cell_type": "markdown",
   "metadata": {},
   "source": []
  }
 ],
 "metadata": {
  "kernelspec": {
   "display_name": "Python 3",
   "language": "python",
   "name": "python3"
  },
  "language_info": {
   "codemirror_mode": {
    "name": "ipython",
    "version": 3
   },
   "file_extension": ".py",
   "mimetype": "text/x-python",
   "name": "python",
   "nbconvert_exporter": "python",
   "pygments_lexer": "ipython3",
   "version": "3.8.15"
  },
  "orig_nbformat": 4
 },
 "nbformat": 4,
 "nbformat_minor": 2
}
