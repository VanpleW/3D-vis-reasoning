{
 "cells": [
  {
   "attachments": {},
   "cell_type": "markdown",
   "metadata": {},
   "source": [
    "# Stage 1: Image Processing\n",
    "\n",
    "Denoising and deblurring with both classical and deeplearing methods."
   ]
  },
  {
   "attachments": {},
   "cell_type": "markdown",
   "metadata": {},
   "source": [
    "## Demo for classical method\n",
    "- median filter;\n",
    "- bilateral filter;\n",
    "- wiener filter;\n",
    "- wavelet transform (dummy approach);"
   ]
  },
  {
   "cell_type": "code",
   "execution_count": 1,
   "metadata": {},
   "outputs": [],
   "source": [
    "# append the path of the project to the system path\n",
    "import os\n",
    "import sys\n",
    "path = os.getcwd()\n",
    "sys.path.append(path)"
   ]
  },
  {
   "attachments": {},
   "cell_type": "markdown",
   "metadata": {},
   "source": [
    "### Grid Search for different noise vs method"
   ]
  },
  {
   "cell_type": "code",
   "execution_count": null,
   "metadata": {},
   "outputs": [],
   "source": [
    "from src.stage1_test import test_dummy_stage1\n",
    "import pandas as pd\n",
    "\n",
    "noise = ['gaussian_blur', 'sp_noise', 'gaussian_blur', 'speckle_noise','motion_blur']\n",
    "method = ['median', 'bilateral', 'wiener', 'wavelet']\n",
    "stats = pd.DataFrame(columns=['noise_type', 'method', 'psnr', 'ssim'])\n",
    "\n",
    "for n in noise:\n",
    "    for m in method:\n",
    "        stat = test_dummy_stage1(n, m)\n",
    "        stats = stats.append(pd.Series(stat, index=stats.columns), ignore_index=True)"
   ]
  },
  {
   "cell_type": "code",
   "execution_count": null,
   "metadata": {},
   "outputs": [],
   "source": [
    "print(stats)"
   ]
  },
  {
   "attachments": {},
   "cell_type": "markdown",
   "metadata": {},
   "source": [
    "## Test on Motion blur kernal"
   ]
  },
  {
   "cell_type": "code",
   "execution_count": 2,
   "metadata": {},
   "outputs": [],
   "source": [
    "import cv2\n",
    "import numpy as np\n",
    "from skimage.metrics import peak_signal_noise_ratio as psnr\n",
    "from skimage.metrics import structural_similarity as ssim\n",
    "from scipy.signal import convolve2d\n",
    "\n",
    "from src.utils import load_images\n",
    "from PIL import Image, ImageOps"
   ]
  },
  {
   "cell_type": "code",
   "execution_count": 3,
   "metadata": {},
   "outputs": [],
   "source": [
    "kernel_size = np.arange(3, 21, 1)  # adjust as needed\n",
    "angle = np.arange(0, 360, 0.5)  # adjust as needed\n",
    "\n",
    "best_psnr = 0\n",
    "best_ssim = 0"
   ]
  },
  {
   "cell_type": "code",
   "execution_count": 4,
   "metadata": {},
   "outputs": [
    {
     "ename": "AttributeError",
     "evalue": "'tuple' object has no attribute 'read'",
     "output_type": "error",
     "traceback": [
      "\u001b[0;31m---------------------------------------------------------------------------\u001b[0m",
      "\u001b[0;31mAttributeError\u001b[0m                            Traceback (most recent call last)",
      "File \u001b[0;32m~/.pyenv/versions/3.8.15/lib/python3.8/site-packages/PIL/Image.py:3135\u001b[0m, in \u001b[0;36mopen\u001b[0;34m(fp, mode, formats)\u001b[0m\n\u001b[1;32m   3134\u001b[0m \u001b[39mtry\u001b[39;00m:\n\u001b[0;32m-> 3135\u001b[0m     fp\u001b[39m.\u001b[39;49mseek(\u001b[39m0\u001b[39m)\n\u001b[1;32m   3136\u001b[0m \u001b[39mexcept\u001b[39;00m (\u001b[39mAttributeError\u001b[39;00m, io\u001b[39m.\u001b[39mUnsupportedOperation):\n",
      "\u001b[0;31mAttributeError\u001b[0m: 'tuple' object has no attribute 'seek'",
      "\nDuring handling of the above exception, another exception occurred:\n",
      "\u001b[0;31mAttributeError\u001b[0m                            Traceback (most recent call last)",
      "\u001b[1;32m/Users/vanple/Desktop/ucla/_Courses_/3D-vis-reasoning/stage1/demo.ipynb Cell 10\u001b[0m in \u001b[0;36m3\n\u001b[1;32m      <a href='vscode-notebook-cell:/Users/vanple/Desktop/ucla/_Courses_/3D-vis-reasoning/stage1/demo.ipynb#X14sZmlsZQ%3D%3D?line=0'>1</a>\u001b[0m images \u001b[39m=\u001b[39m load_images(path\u001b[39m+\u001b[39m\u001b[39m'\u001b[39m\u001b[39m/stage1_data/input_imgs\u001b[39m\u001b[39m'\u001b[39m)\n\u001b[1;32m      <a href='vscode-notebook-cell:/Users/vanple/Desktop/ucla/_Courses_/3D-vis-reasoning/stage1/demo.ipynb#X14sZmlsZQ%3D%3D?line=1'>2</a>\u001b[0m \u001b[39mfor\u001b[39;00m image \u001b[39min\u001b[39;00m images:\n\u001b[0;32m----> <a href='vscode-notebook-cell:/Users/vanple/Desktop/ucla/_Courses_/3D-vis-reasoning/stage1/demo.ipynb#X14sZmlsZQ%3D%3D?line=2'>3</a>\u001b[0m     image \u001b[39m=\u001b[39m np\u001b[39m.\u001b[39marray(ImageOps\u001b[39m.\u001b[39mgrayscale(Image\u001b[39m.\u001b[39;49mopen(image)))\u001b[39m/\u001b[39m\u001b[39m255.0\u001b[39m\n\u001b[1;32m      <a href='vscode-notebook-cell:/Users/vanple/Desktop/ucla/_Courses_/3D-vis-reasoning/stage1/demo.ipynb#X14sZmlsZQ%3D%3D?line=3'>4</a>\u001b[0m     \u001b[39mbreak\u001b[39;00m\n\u001b[1;32m      <a href='vscode-notebook-cell:/Users/vanple/Desktop/ucla/_Courses_/3D-vis-reasoning/stage1/demo.ipynb#X14sZmlsZQ%3D%3D?line=5'>6</a>\u001b[0m ref_images  \u001b[39m=\u001b[39m load_images(path\u001b[39m+\u001b[39m\u001b[39m'\u001b[39m\u001b[39m/stage1_data/motion_blur\u001b[39m\u001b[39m'\u001b[39m)\n",
      "File \u001b[0;32m~/.pyenv/versions/3.8.15/lib/python3.8/site-packages/PIL/Image.py:3137\u001b[0m, in \u001b[0;36mopen\u001b[0;34m(fp, mode, formats)\u001b[0m\n\u001b[1;32m   3135\u001b[0m     fp\u001b[39m.\u001b[39mseek(\u001b[39m0\u001b[39m)\n\u001b[1;32m   3136\u001b[0m \u001b[39mexcept\u001b[39;00m (\u001b[39mAttributeError\u001b[39;00m, io\u001b[39m.\u001b[39mUnsupportedOperation):\n\u001b[0;32m-> 3137\u001b[0m     fp \u001b[39m=\u001b[39m io\u001b[39m.\u001b[39mBytesIO(fp\u001b[39m.\u001b[39;49mread())\n\u001b[1;32m   3138\u001b[0m     exclusive_fp \u001b[39m=\u001b[39m \u001b[39mTrue\u001b[39;00m\n\u001b[1;32m   3140\u001b[0m prefix \u001b[39m=\u001b[39m fp\u001b[39m.\u001b[39mread(\u001b[39m16\u001b[39m)\n",
      "\u001b[0;31mAttributeError\u001b[0m: 'tuple' object has no attribute 'read'"
     ]
    }
   ],
   "source": [
    "images = load_images(path+'/stage1_data/input_imgs')\n",
    "for image in images:\n",
    "    image = np.array(ImageOps.grayscale(Image.open(image)))/255.0\n",
    "    break\n",
    "\n",
    "ref_images  = load_images(path+'/stage1_data/motion_blur')\n",
    "for ref_image in ref_images:\n",
    "    ref_image = np.array(ImageOps.grayscale(Image.open(ref_image)))/255.0\n",
    "    break"
   ]
  },
  {
   "cell_type": "code",
   "execution_count": null,
   "metadata": {},
   "outputs": [],
   "source": [
    "# Generate the motion blur kernel\n",
    "for ks in kernel_size:\n",
    "    for a in angle:\n",
    "        motion_blur_kernel = np.zeros((ks, ks))\n",
    "        motion_blur_kernel[int((ks-1)/2), :] = np.ones(ks)\n",
    "        rotation_matrix = cv2.getRotationMatrix2D((int((ks-1)/2), int((ks-1)/2)), a, 1)\n",
    "        motion_blur_kernel = cv2.warpAffine(motion_blur_kernel, rotation_matrix, (ks, ks))\n",
    "        # Normalize the kernel\n",
    "        motion_blur_kernel /= motion_blur_kernel.sum()\n",
    "        # Apply the kernel to the input image\n",
    "        image_blurred = convolve2d(image, motion_blur_kernel, mode='same', boundary='symm')\n",
    "        # compute psnr and ssim\n",
    "        psnr_value = psnr(image, image_blurred)\n",
    "        ssim_value = ssim(image, image_blurred, multichannel=True, data_range=image_blurred.max() - image_blurred.min())\n",
    "        if psnr_value > best_psnr:\n",
    "            best_psnr = psnr_value\n",
    "            best_ssim = ssim_value\n",
    "            best_kernel = motion_blur_kernel\n"
   ]
  },
  {
   "attachments": {},
   "cell_type": "markdown",
   "metadata": {},
   "source": []
  }
 ],
 "metadata": {
  "kernelspec": {
   "display_name": "Python 3",
   "language": "python",
   "name": "python3"
  },
  "language_info": {
   "codemirror_mode": {
    "name": "ipython",
    "version": 3
   },
   "file_extension": ".py",
   "mimetype": "text/x-python",
   "name": "python",
   "nbconvert_exporter": "python",
   "pygments_lexer": "ipython3",
   "version": "3.8.15"
  },
  "orig_nbformat": 4
 },
 "nbformat": 4,
 "nbformat_minor": 2
}
