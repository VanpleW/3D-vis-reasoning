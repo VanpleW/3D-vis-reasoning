{
 "cells": [
  {
   "attachments": {},
   "cell_type": "markdown",
   "metadata": {},
   "source": [
    "# Stage 1: Image Processing\n",
    "\n",
    "Denoising and deblurring with some classical methods."
   ]
  },
  {
   "attachments": {},
   "cell_type": "markdown",
   "metadata": {},
   "source": [
    "## Demo for classical method\n",
    "- median filter;\n",
    "- bilateral filter;\n",
    "- wiener filter;\n",
    "- wavelet transform (dummy approach);\n",
    "- LMG kernal estimation"
   ]
  },
  {
   "cell_type": "code",
   "execution_count": 1,
   "metadata": {},
   "outputs": [],
   "source": [
    "# append the path of the project to the system path\n",
    "import os\n",
    "import sys\n",
    "path = os.getcwd()\n",
    "sys.path.append(path)"
   ]
  },
  {
   "attachments": {},
   "cell_type": "markdown",
   "metadata": {},
   "source": [
    "### Grid Search for different noise vs method"
   ]
  },
  {
   "cell_type": "code",
   "execution_count": null,
   "metadata": {},
   "outputs": [],
   "source": [
    "from src.stage1_test import test_dummy_stage1\n",
    "import pandas as pd\n",
    "\n",
    "noise = ['gaussian_blur', 'sp_noise', 'gaussian_blur', 'speckle_noise','motion_blur']\n",
    "method = ['median', 'bilateral', 'wiener', 'wavelet', 'lmg']\n",
    "stats = pd.DataFrame(columns=['noise_type', 'method', 'psnr', 'ssim'])\n",
    "\n",
    "for n in noise:\n",
    "    for m in method:\n",
    "        stat = test_dummy_stage1(n, m)\n",
    "        stats = stats.append(pd.Series(stat, index=stats.columns), ignore_index=True)"
   ]
  },
  {
   "cell_type": "code",
   "execution_count": null,
   "metadata": {},
   "outputs": [],
   "source": [
    "print(stats)"
   ]
  },
  {
   "attachments": {},
   "cell_type": "markdown",
   "metadata": {},
   "source": [
    "## Test on Motion blur kernal"
   ]
  },
  {
   "cell_type": "code",
   "execution_count": null,
   "metadata": {},
   "outputs": [],
   "source": [
    "import cv2\n",
    "import numpy as np\n",
    "from skimage.metrics import peak_signal_noise_ratio as psnr\n",
    "from skimage.metrics import structural_similarity as ssim\n",
    "from scipy.signal import convolve2d\n",
    "\n",
    "from src.utils import load_images\n",
    "from PIL import Image, ImageOps"
   ]
  },
  {
   "cell_type": "code",
   "execution_count": null,
   "metadata": {},
   "outputs": [],
   "source": [
    "kernel_size = np.arange(3, 21, 1)  # adjust as needed\n",
    "angle = np.arange(0, 360, 0.5)  # adjust as needed\n",
    "\n",
    "best_psnr = 0\n",
    "best_ssim = 0"
   ]
  },
  {
   "cell_type": "code",
   "execution_count": null,
   "metadata": {},
   "outputs": [],
   "source": [
    "images = load_images(path+'/stage1_data/input_imgs')\n",
    "image = np.array(ImageOps.grayscale(Image.open(next(images))))/255.0\n",
    "\n",
    "ref_images  = load_images(path+'/stage1_data/motion_blur')\n",
    "ref_image = np.array(ImageOps.grayscale(Image.open(next(ref_images))))/255.0"
   ]
  },
  {
   "cell_type": "code",
   "execution_count": null,
   "metadata": {},
   "outputs": [],
   "source": [
    "# Generate the motion blur kernel\n",
    "for ks in kernel_size:\n",
    "    for a in angle:\n",
    "        motion_blur_kernel = np.zeros((ks, ks))\n",
    "        motion_blur_kernel[int((ks-1)/2), :] = np.ones(ks)\n",
    "        rotation_matrix = cv2.getRotationMatrix2D((int((ks-1)/2), int((ks-1)/2)), a, 1)\n",
    "        motion_blur_kernel = cv2.warpAffine(motion_blur_kernel, rotation_matrix, (ks, ks))\n",
    "        # Normalize the kernel\n",
    "        motion_blur_kernel /= motion_blur_kernel.sum()\n",
    "        # Apply the kernel to the input image\n",
    "        image_blurred = convolve2d(image, motion_blur_kernel, mode='same', boundary='symm')\n",
    "        # compute psnr and ssim\n",
    "        psnr_value = psnr(image, image_blurred)\n",
    "        ssim_value = ssim(image, image_blurred, multichannel=True, data_range=image_blurred.max() - image_blurred.min())\n",
    "        if psnr_value > best_psnr:\n",
    "            best_psnr = psnr_value\n",
    "            best_ssim = ssim_value\n",
    "            best_kernel = motion_blur_kernel\n"
   ]
  },
  {
   "attachments": {},
   "cell_type": "markdown",
   "metadata": {},
   "source": []
  }
 ],
 "metadata": {
  "kernelspec": {
   "display_name": "Python 3",
   "language": "python",
   "name": "python3"
  },
  "language_info": {
   "codemirror_mode": {
    "name": "ipython",
    "version": 3
   },
   "file_extension": ".py",
   "mimetype": "text/x-python",
   "name": "python",
   "nbconvert_exporter": "python",
   "pygments_lexer": "ipython3",
   "version": "3.8.15"
  },
  "orig_nbformat": 4
 },
 "nbformat": 4,
 "nbformat_minor": 2
}
