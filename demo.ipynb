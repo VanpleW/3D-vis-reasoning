{
 "cells": [
  {
   "attachments": {},
   "cell_type": "markdown",
   "metadata": {},
   "source": [
    "# Stage 1: Image Processing\n",
    "\n",
    "Denoising and deblurring with both classical and deeplearing methods."
   ]
  },
  {
   "attachments": {},
   "cell_type": "markdown",
   "metadata": {},
   "source": [
    "## Demo for classical method\n",
    "- median filter;\n",
    "- bilateral filter;\n",
    "- wiener filter;\n",
    "- wavelet transform (dummy approach);"
   ]
  },
  {
   "cell_type": "code",
   "execution_count": null,
   "metadata": {},
   "outputs": [],
   "source": [
    "# append the path of the project to the system path\n",
    "import os\n",
    "import sys\n",
    "path = os.getcwd()\n",
    "sys.path.append(path)"
   ]
  },
  {
   "attachments": {},
   "cell_type": "markdown",
   "metadata": {},
   "source": [
    "### Grid Search for different noise vs method"
   ]
  },
  {
   "cell_type": "code",
   "execution_count": null,
   "metadata": {},
   "outputs": [],
   "source": [
    "from utils.stage1_test import test_dummy_stage1\n",
    "import pandas as pd\n",
    "\n",
    "noise = ['gaussian_blur', 'sp_noise', 'gaussian_blur', 'speckle_noise','motion_blur']\n",
    "method = ['median', 'bilateral', 'wiener', 'wavelet']\n",
    "stats = pd.DataFrame(columns=['noise_type', 'method', 'psnr', 'ssim'])\n",
    "\n",
    "for n in noise:\n",
    "    for m in method:\n",
    "        stat = test_dummy_stage1(n, m)\n",
    "        stats = stats.append(pd.Series(stat, index=stats.columns), ignore_index=True)"
   ]
  },
  {
   "cell_type": "code",
   "execution_count": null,
   "metadata": {},
   "outputs": [],
   "source": [
    "print(stats)"
   ]
  }
 ],
 "metadata": {
  "kernelspec": {
   "display_name": "Python 3",
   "language": "python",
   "name": "python3"
  },
  "language_info": {
   "codemirror_mode": {
    "name": "ipython",
    "version": 3
   },
   "file_extension": ".py",
   "mimetype": "text/x-python",
   "name": "python",
   "nbconvert_exporter": "python",
   "pygments_lexer": "ipython3",
   "version": "3.8.15"
  },
  "orig_nbformat": 4
 },
 "nbformat": 4,
 "nbformat_minor": 2
}
